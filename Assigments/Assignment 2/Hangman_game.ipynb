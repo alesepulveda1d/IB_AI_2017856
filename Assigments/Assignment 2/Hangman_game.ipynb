{
  "nbformat": 4,
  "nbformat_minor": 0,
  "metadata": {
    "colab": {
      "provenance": []
    },
    "kernelspec": {
      "name": "python3",
      "display_name": "Python 3"
    },
    "language_info": {
      "name": "python"
    }
  },
  "cells": [
    {
      "cell_type": "markdown",
      "source": [
        "# **2017856**"
      ],
      "metadata": {
        "id": "CvL71mxDjyVo"
      }
    },
    {
      "cell_type": "markdown",
      "source": [
        "2. Hangman Game: Create a Python program that allows a user to play the game of Hangman. The program should randomly select a word from a predefined list, and the player must guess letters one at a time until they guess the word correctly or run out of attempts."
      ],
      "metadata": {
        "id": "r_i29ckUXfgz"
      }
    },
    {
      "cell_type": "code",
      "execution_count": 3,
      "metadata": {
        "colab": {
          "base_uri": "https://localhost:8080/"
        },
        "id": "kms1V3a7gN0g",
        "outputId": "23872d0c-de8d-44ce-f7aa-b7724a1c69d1"
      },
      "outputs": [
        {
          "output_type": "stream",
          "name": "stdout",
          "text": [
            "Let's play hangman!\n",
            "\n",
            "Word to guess:  _ _ _ _ _ _ _\n",
            "Guessed letters: \n",
            "Remaining attempts: 8\n",
            "Guess a letter: a\n",
            "Good guess! 'a' is in the word.\n",
            "\n",
            "Word to guess:  _ _ _ a _ _ _\n",
            "Guessed letters: a\n",
            "Remaining attempts: 8\n",
            "Guess a letter: e\n",
            "Good guess! 'e' is in the word.\n",
            "\n",
            "Word to guess:  _ _ _ a _ _ e\n",
            "Guessed letters: a, e\n",
            "Remaining attempts: 8\n",
            "Guess a letter: i\n",
            "Good guess! 'i' is in the word.\n",
            "\n",
            "Word to guess:  _ i _ a _ _ e\n",
            "Guessed letters: a, e, i\n",
            "Remaining attempts: 8\n",
            "Guess a letter: j\n",
            "Wrong guess! 'j' is not in the word.\n",
            "\n",
            "Word to guess:  _ i _ a _ _ e\n",
            "Guessed letters: a, e, i, j\n",
            "Remaining attempts: 7\n",
            "Guess a letter: g\n",
            "Good guess! 'g' is in the word.\n",
            "\n",
            "Word to guess:  g i _ a _ _ e\n",
            "Guessed letters: a, e, i, j, g\n",
            "Remaining attempts: 7\n",
            "Guess a letter: r\n",
            "Good guess! 'r' is in the word.\n",
            "\n",
            "Word to guess:  g i r a _ _ e\n",
            "Guessed letters: a, e, i, j, g, r\n",
            "Remaining attempts: 7\n",
            "Guess a letter: f\n",
            "Good guess! 'f' is in the word.\n",
            "\n",
            "Congratulations! You guessed the word: giraffe\n"
          ]
        }
      ],
      "source": [
        "import random\n",
        "import string\n",
        "\n",
        "list_of_words = (\"elephant\", \"giraffe\", \"zebra\", \"penguin\", \"lion\", \"tiger\", \"kangaroo\", \"panda\", \"bear\", \"dolphin\", \"shark\", \"hippopotamus\", \"rhinoceros\", \"eagle\", \"owl\", \"hawk\", \"parrot\", \"monkey\", \"alligator\")\n",
        "\n",
        "def selection(list_of_words):\n",
        "    word = random.choice(list_of_words)\n",
        "    guessed_word = [\"_\"] * len(word)\n",
        "    letters = len(set(word))\n",
        "    return word, guessed_word, letters\n",
        "\n",
        "attempts = 8\n",
        "word, guessed_word, letters = selection(list_of_words)\n",
        "guessed_letters = []\n",
        "\n",
        "print(\"Let's play hangman!\")\n",
        "\n",
        "while attempts > 0 and ''.join(guessed_word) != word:\n",
        "    print(\"\\nWord to guess: \", ' '.join(guessed_word))\n",
        "    print(f\"Guessed letters: {', '.join(guessed_letters)}\")\n",
        "    print(f\"Remaining attempts: {attempts}\")\n",
        "\n",
        "    guess = input(\"Guess a letter: \").lower()\n",
        "\n",
        "    if len(guess) != 1 or guess not in string.ascii_lowercase:\n",
        "        print(\"Please enter a valid letter.\")\n",
        "        continue\n",
        "\n",
        "    if guess in guessed_letters:\n",
        "        print(f\"You already guessed the letter '{guess}'. Try again.\")\n",
        "        continue\n",
        "\n",
        "    guessed_letters.append(guess)\n",
        "\n",
        "    if guess in word:\n",
        "        for i, letter in enumerate(word):\n",
        "            if letter == guess:\n",
        "                guessed_word[i] = guess\n",
        "        print(f\"Good guess! '{guess}' is in the word.\")\n",
        "    else:\n",
        "        attempts -= 1\n",
        "        print(f\"Wrong guess! '{guess}' is not in the word.\")\n",
        "\n",
        "if ''.join(guessed_word) == word:\n",
        "    print(\"\\nCongratulations! You guessed the word:\", word)\n",
        "else:\n",
        "    print(\"\\nGame over! The word was:\", word)\n"
      ]
    }
  ]
}