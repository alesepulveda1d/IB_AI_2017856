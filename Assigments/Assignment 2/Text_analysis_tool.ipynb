{
  "nbformat": 4,
  "nbformat_minor": 0,
  "metadata": {
    "colab": {
      "provenance": []
    },
    "kernelspec": {
      "name": "python3",
      "display_name": "Python 3"
    },
    "language_info": {
      "name": "python"
    }
  },
  "cells": [
    {
      "cell_type": "markdown",
      "source": [
        "**2017856**"
      ],
      "metadata": {
        "id": "cbeQmTyljaXq"
      }
    },
    {
      "cell_type": "markdown",
      "source": [
        "1.Text Analysis Tool: Create a Python program that reads a text file and performs various analyses on its content. The program should: Count the number of words, sentences, and paragraphs. Calculate the average word length. Identify the most common words and their frequencies.\n",
        "\n"
      ],
      "metadata": {
        "id": "t0Cmo2o1XNqx"
      }
    },
    {
      "cell_type": "code",
      "execution_count": 2,
      "metadata": {
        "id": "vX_Fwu6dAKYj",
        "colab": {
          "base_uri": "https://localhost:8080/"
        },
        "outputId": "d6661042-e319-4c51-93d2-8f9edc38b69b"
      },
      "outputs": [
        {
          "output_type": "stream",
          "name": "stdout",
          "text": [
            "Number of words: 213\n",
            "Number of sentences: 14\n",
            "Number of paragraphs: 4\n",
            "Average word length: 3.868544600938967\n",
            "Most common words:\n",
            "the: 8\n",
            "is: 8\n",
            "that: 8\n",
            "she: 8\n",
            "have: 7\n",
            "I: 7\n",
            "are: 5\n",
            "my: 5\n",
            "because: 5\n",
            "it: 5\n"
          ]
        }
      ],
      "source": [
        "import re\n",
        "from collections import Counter\n",
        "\n",
        "def count_words(content):\n",
        "    words = re.findall(r'\\b\\w+\\b', content)\n",
        "    return len(words)\n",
        "\n",
        "def count_sentences(content):\n",
        "    sentences = content.split('.')\n",
        "    sentences = [s for s in sentences if s.strip()]\n",
        "    return len(sentences)\n",
        "\n",
        "def count_paragraphs(content):\n",
        "    paragraphs = content.split('\\n\\n')\n",
        "    return len(paragraphs)\n",
        "\n",
        "def average_word_length(content):\n",
        "    words = re.findall(r'\\b\\w+\\b', content)\n",
        "    if not words:\n",
        "        return 0\n",
        "    total_length = sum(len(word) for word in words)\n",
        "    return total_length / len(words)\n",
        "\n",
        "def most_common_words(content, num_common=10):\n",
        "    words = content.split()\n",
        "    word_frequency = Counter(words)\n",
        "    return word_frequency.most_common(num_common)\n",
        "\n",
        "with open(\"file.txt\", \"r\") as file:\n",
        "    content = file.read()\n",
        "\n",
        "word_count = count_words(content)\n",
        "print(f\"Number of words: {word_count}\")\n",
        "sentence_count = count_sentences(content)\n",
        "print(f\"Number of sentences: {sentence_count}\")\n",
        "paragraph_count = count_paragraphs(content)\n",
        "print(f\"Number of paragraphs: {paragraph_count}\")\n",
        "average_length = average_word_length(content)\n",
        "print(f\"Average word length: {average_length}\")\n",
        "common_words = most_common_words(content)\n",
        "print(\"Most common words:\")\n",
        "for word, frequency in common_words:\n",
        "    print(f\"{word}: {frequency}\")\n",
        "\n"
      ]
    }
  ]
}