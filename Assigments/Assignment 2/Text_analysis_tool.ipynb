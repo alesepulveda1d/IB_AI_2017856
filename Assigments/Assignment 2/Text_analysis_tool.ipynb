{
  "nbformat": 4,
  "nbformat_minor": 0,
  "metadata": {
    "colab": {
      "provenance": []
    },
    "kernelspec": {
      "name": "python3",
      "display_name": "Python 3"
    },
    "language_info": {
      "name": "python"
    }
  },
  "cells": [
    {
      "cell_type": "markdown",
      "source": [
        "1.Text Analysis Tool: Create a Python program that reads a text file and performs various analyses on its content. The program should: Count the number of words, sentences, and paragraphs. Calculate the average word length. Identify the most common words and their frequencies.\n",
        "\n"
      ],
      "metadata": {
        "id": "t0Cmo2o1XNqx"
      }
    },
    {
      "cell_type": "code",
      "execution_count": 1,
      "metadata": {
        "id": "vX_Fwu6dAKYj",
        "colab": {
          "base_uri": "https://localhost:8080/",
          "height": 211
        },
        "outputId": "84b33cb8-729c-4a34-dc20-e9748aa1ea44"
      },
      "outputs": [
        {
          "output_type": "error",
          "ename": "FileNotFoundError",
          "evalue": "[Errno 2] No such file or directory: 'file.txt'",
          "traceback": [
            "\u001b[0;31m---------------------------------------------------------------------------\u001b[0m",
            "\u001b[0;31mFileNotFoundError\u001b[0m                         Traceback (most recent call last)",
            "\u001b[0;32m<ipython-input-1-f836851f21f3>\u001b[0m in \u001b[0;36m<cell line: 29>\u001b[0;34m()\u001b[0m\n\u001b[1;32m     27\u001b[0m     \u001b[0;32mreturn\u001b[0m \u001b[0mword_frequency\u001b[0m\u001b[0;34m.\u001b[0m\u001b[0mmost_common\u001b[0m\u001b[0;34m(\u001b[0m\u001b[0mnum_common\u001b[0m\u001b[0;34m)\u001b[0m\u001b[0;34m\u001b[0m\u001b[0;34m\u001b[0m\u001b[0m\n\u001b[1;32m     28\u001b[0m \u001b[0;34m\u001b[0m\u001b[0m\n\u001b[0;32m---> 29\u001b[0;31m \u001b[0;32mwith\u001b[0m \u001b[0mopen\u001b[0m\u001b[0;34m(\u001b[0m\u001b[0;34m\"file.txt\"\u001b[0m\u001b[0;34m,\u001b[0m \u001b[0;34m\"r\"\u001b[0m\u001b[0;34m)\u001b[0m \u001b[0;32mas\u001b[0m \u001b[0mfile\u001b[0m\u001b[0;34m:\u001b[0m\u001b[0;34m\u001b[0m\u001b[0;34m\u001b[0m\u001b[0m\n\u001b[0m\u001b[1;32m     30\u001b[0m     \u001b[0mcontent\u001b[0m \u001b[0;34m=\u001b[0m \u001b[0mfile\u001b[0m\u001b[0;34m.\u001b[0m\u001b[0mread\u001b[0m\u001b[0;34m(\u001b[0m\u001b[0;34m)\u001b[0m\u001b[0;34m\u001b[0m\u001b[0;34m\u001b[0m\u001b[0m\n\u001b[1;32m     31\u001b[0m \u001b[0;34m\u001b[0m\u001b[0m\n",
            "\u001b[0;31mFileNotFoundError\u001b[0m: [Errno 2] No such file or directory: 'file.txt'"
          ]
        }
      ],
      "source": [
        "import re\n",
        "from collections import Counter\n",
        "\n",
        "def count_words(content):\n",
        "    words = re.findall(r'\\b\\w+\\b', content)\n",
        "    return len(words)\n",
        "\n",
        "def count_sentences(content):\n",
        "    sentences = content.split('.')\n",
        "    sentences = [s for s in sentences if s.strip()]\n",
        "    return len(sentences)\n",
        "\n",
        "def count_paragraphs(content):\n",
        "    paragraphs = content.split('\\n\\n')\n",
        "    return len(paragraphs)\n",
        "\n",
        "def average_word_length(content):\n",
        "    words = re.findall(r'\\b\\w+\\b', content)\n",
        "    if not words:\n",
        "        return 0\n",
        "    total_length = sum(len(word) for word in words)\n",
        "    return total_length / len(words)\n",
        "\n",
        "def most_common_words(content, num_common=10):\n",
        "    words = content.split()\n",
        "    word_frequency = Counter(words)\n",
        "    return word_frequency.most_common(num_common)\n",
        "\n",
        "with open(\"file.txt\", \"r\") as file:\n",
        "    content = file.read()\n",
        "\n",
        "word_count = count_words(content)\n",
        "print(f\"Number of words: {word_count}\")\n",
        "sentence_count = count_sentences(content)\n",
        "print(f\"Number of sentences: {sentence_count}\")\n",
        "paragraph_count = count_paragraphs(content)\n",
        "print(f\"Number of paragraphs: {paragraph_count}\")\n",
        "average_length = average_word_length(content)\n",
        "print(f\"Average word length: {average_length}\")\n",
        "common_words = most_common_words(content)\n",
        "print(\"Most common words:\")\n",
        "for word, frequency in common_words:\n",
        "    print(f\"{word}: {frequency}\")\n",
        "\n"
      ]
    }
  ]
}