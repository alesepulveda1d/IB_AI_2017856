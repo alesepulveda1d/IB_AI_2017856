{
  "nbformat": 4,
  "nbformat_minor": 0,
  "metadata": {
    "colab": {
      "provenance": []
    },
    "kernelspec": {
      "name": "python3",
      "display_name": "Python 3"
    },
    "language_info": {
      "name": "python"
    }
  },
  "cells": [
    {
      "cell_type": "markdown",
      "source": [
        "# **2017856**"
      ],
      "metadata": {
        "id": "uY-OjYIhkQhD"
      }
    },
    {
      "cell_type": "markdown",
      "source": [
        "3. Number Guessing Game: Create a program that generates a random number between 1 and 100, and then asks the user to guess the number. The program should provide hints to the user if the guessed number is greater or less than the target number, and keep asking for a new guess until the user guesses correctly."
      ],
      "metadata": {
        "id": "LwL1fVJHgpwq"
      }
    },
    {
      "cell_type": "code",
      "execution_count": 2,
      "metadata": {
        "id": "kms1V3a7gN0g",
        "colab": {
          "base_uri": "https://localhost:8080/"
        },
        "outputId": "243673d6-bacc-4850-bb84-e164335bf5d0"
      },
      "outputs": [
        {
          "output_type": "stream",
          "name": "stdout",
          "text": [
            "Welcome to Guess the Number!\n",
            "I will think of a number between 1 and 100, and you have to guess it. I will help you with hints.\n",
            "Good luck!\n",
            "Guess the number: 85\n",
            "Too high, try again!\n",
            "Guess the number: 70\n",
            "Too high, try again!\n",
            "Guess the number: 60\n",
            "Too low, try again!\n",
            "Guess the number: 65\n",
            "Too high, try again!\n",
            "Guess the number: 63\n",
            "Too high, try again!\n",
            "Guess the number: 62\n",
            "Congratulations! You guessed the number 62 in 6 attempts.\n"
          ]
        }
      ],
      "source": [
        "import random\n",
        "\n",
        "print(\"Welcome to Guess the Number!\")\n",
        "print(\"I will think of a number between 1 and 100, and you have to guess it. I will help you with hints.\")\n",
        "print(\"Good luck!\")\n",
        "\n",
        "def guess_number():\n",
        "    random_number = random.randint(1, 100)\n",
        "    guess = None\n",
        "    attempts = 0\n",
        "    while guess != random_number:\n",
        "        try:\n",
        "            guess = int(input(\"Guess the number: \"))\n",
        "            attempts += 1\n",
        "            if guess < 1 or guess > 100:\n",
        "                print(\"Please enter a number between 1 and 100.\")\n",
        "                continue\n",
        "\n",
        "            if guess < random_number:\n",
        "                print(\"Too low, try again!\")\n",
        "            elif guess > random_number:\n",
        "                print(\"Too high, try again!\")\n",
        "            else:\n",
        "                print(f\"Congratulations! You guessed the number {random_number} in {attempts} attempts.\")\n",
        "        except ValueError:\n",
        "            print(\"Invalid input. Please enter a valid number.\")\n",
        "\n",
        "guess_number()\n"
      ]
    }
  ]
}