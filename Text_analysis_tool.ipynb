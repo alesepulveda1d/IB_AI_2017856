{
  "nbformat": 4,
  "nbformat_minor": 0,
  "metadata": {
    "colab": {
      "provenance": [],
      "authorship_tag": "ABX9TyMgzxuV6WLXd+jLM/1fsO60",
      "include_colab_link": true
    },
    "kernelspec": {
      "name": "python3",
      "display_name": "Python 3"
    },
    "language_info": {
      "name": "python"
    }
  },
  "cells": [
    {
      "cell_type": "markdown",
      "metadata": {
        "id": "view-in-github",
        "colab_type": "text"
      },
      "source": [
        "<a href=\"https://colab.research.google.com/github/alesepulveda1d/IB_AI_2017856/blob/main/Text_analysis_tool.ipynb\" target=\"_parent\"><img src=\"https://colab.research.google.com/assets/colab-badge.svg\" alt=\"Open In Colab\"/></a>"
      ]
    },
    {
      "cell_type": "markdown",
      "source": [
        "1.Text Analysis Tool: Create a Python program that reads a text file and performs various analyses on its content. The program should: Count the number of words, sentences, and paragraphs. Calculate the average word length. Identify the most common words and their frequencies.\n",
        "\n"
      ],
      "metadata": {
        "id": "t0Cmo2o1XNqx"
      }
    },
    {
      "cell_type": "code",
      "execution_count": null,
      "metadata": {
        "id": "vX_Fwu6dAKYj"
      },
      "outputs": [],
      "source": [
        "import re\n",
        "from collections import Counter\n",
        "\n",
        "def count_words(content):\n",
        "    words = re.findall(r'\\b\\w+\\b', content)\n",
        "    return len(words)\n",
        "\n",
        "def count_sentences(content):\n",
        "    sentences = content.split('.')\n",
        "    sentences = [s for s in sentences if s.strip()]\n",
        "    return len(sentences)\n",
        "\n",
        "def count_paragraphs(content):\n",
        "    paragraphs = content.split('\\n\\n')\n",
        "    return len(paragraphs)\n",
        "\n",
        "def average_word_length(content):\n",
        "    words = re.findall(r'\\b\\w+\\b', content)\n",
        "    if not words:\n",
        "        return 0\n",
        "    total_length = sum(len(word) for word in words)\n",
        "    return total_length / len(words)\n",
        "\n",
        "def most_common_words(content, num_common=10):\n",
        "    words = content.split()\n",
        "    word_frequency = Counter(words)\n",
        "    return word_frequency.most_common(num_common)\n",
        "\n",
        "with open(\"file.txt\", \"r\") as file:\n",
        "    content = file.read()\n",
        "\n",
        "word_count = count_words(content)\n",
        "print(f\"Number of words: {word_count}\")\n",
        "sentence_count = count_sentences(content)\n",
        "print(f\"Number of sentences: {sentence_count}\")\n",
        "paragraph_count = count_paragraphs(content)\n",
        "print(f\"Number of paragraphs: {paragraph_count}\")\n",
        "average_length = average_word_length(content)\n",
        "print(f\"Average word length: {average_length}\")\n",
        "common_words = most_common_words(content)\n",
        "print(\"Most common words:\")\n",
        "for word, frequency in common_words:\n",
        "    print(f\"{word}: {frequency}\")\n",
        "\n"
      ]
    }
  ]
}