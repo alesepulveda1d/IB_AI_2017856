{
  "nbformat": 4,
  "nbformat_minor": 0,
  "metadata": {
    "colab": {
      "provenance": [],
      "authorship_tag": "ABX9TyOgDrWc0bqhezUn1mLX+kzI",
      "include_colab_link": true
    },
    "kernelspec": {
      "name": "python3",
      "display_name": "Python 3"
    },
    "language_info": {
      "name": "python"
    }
  },
  "cells": [
    {
      "cell_type": "markdown",
      "metadata": {
        "id": "view-in-github",
        "colab_type": "text"
      },
      "source": [
        "<a href=\"https://colab.research.google.com/github/alesepulveda1d/IB_AI_2017856/blob/main/Assignment_2_2017856.ipynb\" target=\"_parent\"><img src=\"https://colab.research.google.com/assets/colab-badge.svg\" alt=\"Open In Colab\"/></a>"
      ]
    },
    {
      "cell_type": "markdown",
      "source": [
        "## **Assignment 2**\n",
        "### *Artificial Intelligence*\n",
        "#### Alejandra Sepúlveda Rojas 2017856 IB\n",
        "\n",
        "\n"
      ],
      "metadata": {
        "id": "cbeQmTyljaXq"
      }
    },
    {
      "cell_type": "markdown",
      "source": [
        "1.Text Analysis Tool: Create a Python program that reads a text file and performs various analyses on its content. The program should: Count the number of words, sentences, and paragraphs. Calculate the average word length. Identify the most common words and their frequencies.\n",
        "\n"
      ],
      "metadata": {
        "id": "t0Cmo2o1XNqx"
      }
    },
    {
      "cell_type": "markdown",
      "source": [
        "**Text from the \"file.txt\":**\n",
        "\n",
        "*The little prince went away, to look again at the roses.*\n",
        "\n",
        "*“You are not at all like my rose,” he said. “As yet you are nothing. No one has tamed you, and you have tamed no one. You are like my fox when I first knew him. He was only a fox like a hundred thousand other foxes. But I have made him my friend, and now he is unique in all the world.”*\n",
        "\n",
        "*And the roses were very much embarrassed.*\n",
        "\n",
        "*“You are beautiful, but you are empty,” he went on. “One could not die for you. To be sure, an ordinary passerby would think that my rose looked just like you–the rose that belongs to me. But in herself alone she is more important than all the hundreds of you other roses: because it is she that I have watered; because it is she that I have put under the glass globe; because it is she that I have sheltered behind the screen; because it is for her that I have killed the caterpillars (except the two or three that we saved to become butterflies); because it is she that I have listened to, when she grumbled, or boasted, or ever sometimes when she said nothing. Because she is my rose.*"
      ],
      "metadata": {
        "id": "HsAkZNdnpt2s"
      }
    },
    {
      "cell_type": "code",
      "execution_count": null,
      "metadata": {
        "id": "vX_Fwu6dAKYj",
        "colab": {
          "base_uri": "https://localhost:8080/"
        },
        "outputId": "4476a3b3-fa9c-490a-ff46-eba07288a629"
      },
      "outputs": [
        {
          "output_type": "stream",
          "name": "stdout",
          "text": [
            "Number of words: 213\n",
            "Number of sentences: 14\n",
            "Number of paragraphs: 4\n",
            "Average word length: 3.868544600938967\n",
            "Most common words:\n",
            "the: 8\n",
            "is: 8\n",
            "that: 8\n",
            "she: 8\n",
            "have: 7\n",
            "I: 7\n",
            "are: 5\n",
            "my: 5\n",
            "because: 5\n",
            "it: 5\n"
          ]
        }
      ],
      "source": [
        "import re\n",
        "from collections import Counter\n",
        "\n",
        "def count_words(content):\n",
        "    words = re.findall(r'\\b\\w+\\b', content)\n",
        "    return len(words)\n",
        "\n",
        "def count_sentences(content):\n",
        "    sentences = content.split('.')\n",
        "    sentences = [s for s in sentences if s.strip()]\n",
        "    return len(sentences)\n",
        "\n",
        "def count_paragraphs(content):\n",
        "    paragraphs = content.split('\\n\\n')\n",
        "    return len(paragraphs)\n",
        "\n",
        "def average_word_length(content):\n",
        "    words = re.findall(r'\\b\\w+\\b', content)\n",
        "    if not words:\n",
        "        return 0\n",
        "    total_length = sum(len(word) for word in words)\n",
        "    return total_length / len(words)\n",
        "\n",
        "def most_common_words(content, num_common=10):\n",
        "    words = content.split()\n",
        "    word_frequency = Counter(words)\n",
        "    return word_frequency.most_common(num_common)\n",
        "\n",
        "with open(\"file.txt\", \"r\") as file:\n",
        "    content = file.read()\n",
        "\n",
        "word_count = count_words(content)\n",
        "print(f\"Number of words: {word_count}\")\n",
        "sentence_count = count_sentences(content)\n",
        "print(f\"Number of sentences: {sentence_count}\")\n",
        "paragraph_count = count_paragraphs(content)\n",
        "print(f\"Number of paragraphs: {paragraph_count}\")\n",
        "average_length = average_word_length(content)\n",
        "print(f\"Average word length: {average_length}\")\n",
        "common_words = most_common_words(content)\n",
        "print(\"Most common words:\")\n",
        "for word, frequency in common_words:\n",
        "    print(f\"{word}: {frequency}\")\n",
        "\n"
      ]
    },
    {
      "cell_type": "markdown",
      "source": [
        "2. Hangman Game: Create a Python program that allows a user to play the game of Hangman. The program should randomly select a word from a predefined list, and the player must guess letters one at a time until they guess the word correctly or run out of attempts.\n"
      ],
      "metadata": {
        "id": "2ThNQKgAleJ4"
      }
    },
    {
      "cell_type": "code",
      "execution_count": null,
      "metadata": {
        "colab": {
          "base_uri": "https://localhost:8080/"
        },
        "id": "kms1V3a7gN0g",
        "outputId": "cfab3915-87fe-4a54-b6fc-4ac6ae51b318"
      },
      "outputs": [
        {
          "output_type": "stream",
          "name": "stdout",
          "text": [
            "Let's play hangman!\n",
            "\n",
            "Word to guess:  _ _ _\n",
            "Guessed letters: \n",
            "Remaining attempts: 8\n",
            "Guess a letter: a\n",
            "Wrong guess! 'a' is not in the word.\n",
            "\n",
            "Word to guess:  _ _ _\n",
            "Guessed letters: a\n",
            "Remaining attempts: 7\n",
            "Guess a letter: e\n",
            "Wrong guess! 'e' is not in the word.\n",
            "\n",
            "Word to guess:  _ _ _\n",
            "Guessed letters: a, e\n",
            "Remaining attempts: 6\n",
            "Guess a letter: i\n",
            "Wrong guess! 'i' is not in the word.\n",
            "\n",
            "Word to guess:  _ _ _\n",
            "Guessed letters: a, e, i\n",
            "Remaining attempts: 5\n",
            "Guess a letter: o\n",
            "Good guess! 'o' is in the word.\n",
            "\n",
            "Word to guess:  o _ _\n",
            "Guessed letters: a, e, i, o\n",
            "Remaining attempts: 5\n",
            "Guess a letter: w\n",
            "Good guess! 'w' is in the word.\n",
            "\n",
            "Word to guess:  o w _\n",
            "Guessed letters: a, e, i, o, w\n",
            "Remaining attempts: 5\n",
            "Guess a letter: l\n",
            "Good guess! 'l' is in the word.\n",
            "\n",
            "Congratulations! You guessed the word: owl\n"
          ]
        }
      ],
      "source": [
        "import random\n",
        "import string\n",
        "\n",
        "list_of_words = (\"elephant\", \"giraffe\", \"zebra\", \"penguin\", \"lion\", \"tiger\", \"kangaroo\", \"panda\", \"bear\", \"dolphin\", \"shark\", \"hippopotamus\", \"rhinoceros\", \"eagle\", \"owl\", \"hawk\", \"parrot\", \"monkey\", \"alligator\")\n",
        "\n",
        "def selection(list_of_words):\n",
        "    word = random.choice(list_of_words)\n",
        "    guessed_word = [\"_\"] * len(word)\n",
        "    letters = len(set(word))\n",
        "    return word, guessed_word, letters\n",
        "\n",
        "attempts = 8\n",
        "word, guessed_word, letters = selection(list_of_words)\n",
        "guessed_letters = []\n",
        "\n",
        "print(\"Let's play hangman!\")\n",
        "\n",
        "while attempts > 0 and ''.join(guessed_word) != word:\n",
        "    print(\"\\nWord to guess: \", ' '.join(guessed_word))\n",
        "    print(f\"Guessed letters: {', '.join(guessed_letters)}\")\n",
        "    print(f\"Remaining attempts: {attempts}\")\n",
        "\n",
        "    guess = input(\"Guess a letter: \").lower()\n",
        "\n",
        "    if len(guess) != 1 or guess not in string.ascii_lowercase:\n",
        "        print(\"Please enter a valid letter.\")\n",
        "        continue\n",
        "\n",
        "    if guess in guessed_letters:\n",
        "        print(f\"You already guessed the letter '{guess}'. Try again.\")\n",
        "        continue\n",
        "\n",
        "    guessed_letters.append(guess)\n",
        "\n",
        "    if guess in word:\n",
        "        for i, letter in enumerate(word):\n",
        "            if letter == guess:\n",
        "                guessed_word[i] = guess\n",
        "        print(f\"Good guess! '{guess}' is in the word.\")\n",
        "    else:\n",
        "        attempts -= 1\n",
        "        print(f\"Wrong guess! '{guess}' is not in the word.\")\n",
        "\n",
        "if ''.join(guessed_word) == word:\n",
        "    print(\"\\nCongratulations! You guessed the word:\", word)\n",
        "else:\n",
        "    print(\"\\nGame over! The word was:\", word)\n"
      ]
    },
    {
      "cell_type": "markdown",
      "source": [
        "3. Number Guessing Game: Create a program that generates a random number between 1 and 100, and then asks the user to guess the number. The program should provide hints to the user if the guessed number is greater or less than the target number, and keep asking for a new guess until the user guesses correctly."
      ],
      "metadata": {
        "id": "Czgfzfjjntfc"
      }
    },
    {
      "cell_type": "code",
      "execution_count": null,
      "metadata": {
        "colab": {
          "base_uri": "https://localhost:8080/"
        },
        "id": "ddCVxQfgn2eZ",
        "outputId": "c7fe88b4-751b-45f3-afb0-d9ce0ab5593b"
      },
      "outputs": [
        {
          "output_type": "stream",
          "name": "stdout",
          "text": [
            "Welcome to Guess the Number!\n",
            "I will think a number between 1 and 100, and you have to guess it. I will help you with hints.\n",
            "Good luck!\n",
            "Guess the number: 50\n",
            "Too high, try again!\n",
            "Guess the number: 25\n",
            "Too high, try again!\n",
            "Guess the number: 20\n",
            "Too low, try again!\n",
            "Guess the number: 23\n",
            "Too low, try again!\n",
            "Guess the number: 24\n",
            "Congratulations! You guessed the number 24 in 5 attempts.\n"
          ]
        }
      ],
      "source": [
        "import random\n",
        "\n",
        "print(\"Welcome to Guess the Number!\")\n",
        "print(\"I will think a number between 1 and 100, and you have to guess it. I will help you with hints.\")\n",
        "print(\"Good luck!\")\n",
        "\n",
        "def guess_number():\n",
        "    random_number = random.randint(1, 100)\n",
        "    guess = None\n",
        "    attempts = 0\n",
        "    while guess != random_number:\n",
        "        try:\n",
        "            guess = int(input(\"Guess the number: \"))\n",
        "            attempts += 1\n",
        "            if guess < 1 or guess > 100:\n",
        "                print(\"Please enter a number between 1 and 100.\")\n",
        "                continue\n",
        "\n",
        "            if guess < random_number:\n",
        "                print(\"Too low, try again!\")\n",
        "            elif guess > random_number:\n",
        "                print(\"Too high, try again!\")\n",
        "            else:\n",
        "                print(f\"Congratulations! You guessed the number {random_number} in {attempts} attempts.\")\n",
        "        except ValueError:\n",
        "            print(\"Invalid input. Please enter a valid number.\")\n",
        "\n",
        "guess_number()\n"
      ]
    },
    {
      "cell_type": "markdown",
      "source": [
        "References:\n",
        "\n",
        "Matthes, E. (2023). Python crash course. No starch press.\n",
        "\n",
        "https://www.w3schools.com/python/default.as"
      ],
      "metadata": {
        "id": "xVno5VpptVLU"
      }
    }
  ]
}